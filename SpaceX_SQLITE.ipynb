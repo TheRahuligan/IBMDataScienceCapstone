{
  "cells": [
    {
      "cell_type": "markdown",
      "metadata": {
        "id": "0ca133bc-0d6f-43bc-bb5f-1bcddc17da16"
      },
      "source": [
        "<p style=\"text-align:center\">\n",
        "    <a href=\"https://skills.network/?utm_medium=Exinfluencer&utm_source=Exinfluencer&utm_content=000026UJ&utm_term=10006555&utm_id=NA-SkillsNetwork-Channel-SkillsNetworkCoursesIBMDS0321ENSkillsNetwork865-2023-01-01\">\n",
        "    <img src=\"https://cf-courses-data.s3.us.cloud-object-storage.appdomain.cloud/assets/logos/SN_web_lightmode.png\" width=\"200\" alt=\"Skills Network Logo\"  />\n",
        "    </a>\n",
        "</p>\n",
        "\n",
        "<h1 align=center><font size = 5>Assignment: SQL Notebook for Peer Assignment</font></h1>\n",
        "\n",
        "Estimated time needed: **60** minutes.\n",
        "\n",
        "## Introduction\n",
        "Using this Python notebook you will:\n",
        "\n",
        "1.  Understand the Spacex DataSet\n",
        "2.  Load the dataset  into the corresponding table in a Db2 database\n",
        "3.  Execute SQL queries to answer assignment questions\n"
      ]
    },
    {
      "cell_type": "markdown",
      "metadata": {
        "id": "92c2fd8a-76d5-4f16-b7cc-d6d87e6928e9"
      },
      "source": [
        "## Overview of the DataSet\n",
        "\n",
        "SpaceX has gained worldwide attention for a series of historic milestones.\n",
        "\n",
        "It is the only private company ever to return a spacecraft from low-earth orbit, which it first accomplished in December 2010.\n",
        "SpaceX advertises Falcon 9 rocket launches on its website with a cost of 62 million dollars wheras other providers cost upward of 165 million dollars each, much of the savings is because Space X can reuse the first stage.\n",
        "\n",
        "\n",
        "Therefore if we can determine if the first stage will land, we can determine the cost of a launch.\n",
        "\n",
        "This information can be used if an alternate company wants to bid against SpaceX for a rocket launch.\n",
        "\n",
        "This dataset includes a record for each payload carried during a SpaceX mission into outer space.\n"
      ]
    },
    {
      "cell_type": "markdown",
      "metadata": {
        "id": "6b45162c-e31f-4d0a-8479-776f2134b498"
      },
      "source": [
        "### Download the datasets\n",
        "\n",
        "This assignment requires you to load the spacex dataset.\n",
        "\n",
        "In many cases the dataset to be analyzed is available as a .CSV (comma separated values) file, perhaps on the internet. Click on the link below to download and save the dataset (.CSV file):\n",
        "\n",
        " <a href=\"https://cf-courses-data.s3.us.cloud-object-storage.appdomain.cloud/IBM-DS0321EN-SkillsNetwork/labs/module_2/data/Spacex.csv\" target=\"_blank\">Spacex DataSet</a>\n",
        "\n"
      ]
    },
    {
      "cell_type": "code",
      "metadata": {
        "colab": {
          "base_uri": "https://localhost:8080/"
        },
        "id": "adf784f5-459e-484a-bad0-6761db6873fd",
        "outputId": "9e8db06d-2525-47d2-ea23-b4693a3a0df5"
      },
      "outputs": [
        {
          "output_type": "stream",
          "name": "stdout",
          "text": [
            "Collecting sqlalchemy==1.3.9\n",
            "  Downloading SQLAlchemy-1.3.9.tar.gz (6.0 MB)\n",
            "\u001b[2K     \u001b[90m━━━━━━━━━━━━━━━━━━━━━━━━━━━━━━━━━━━━━━━━\u001b[0m \u001b[32m6.0/6.0 MB\u001b[0m \u001b[31m37.2 MB/s\u001b[0m eta \u001b[36m0:00:00\u001b[0m\n",
            "\u001b[?25h  Preparing metadata (setup.py) ... \u001b[?25l\u001b[?25hdone\n",
            "Building wheels for collected packages: sqlalchemy\n",
            "  Building wheel for sqlalchemy (setup.py) ... \u001b[?25l\u001b[?25hdone\n",
            "  Created wheel for sqlalchemy: filename=SQLAlchemy-1.3.9-cp310-cp310-linux_x86_64.whl size=1192328 sha256=bdf9f8b53233ec21a83671ab508a8d33ecd7854e9136f9b3c9189ef2a80799e1\n",
            "  Stored in directory: /root/.cache/pip/wheels/8b/6d/9c/e1793e5a2d85b89b8c362a4f0e3def54b786bcd14923b9ff00\n",
            "Successfully built sqlalchemy\n",
            "Installing collected packages: sqlalchemy\n",
            "  Attempting uninstall: sqlalchemy\n",
            "    Found existing installation: SQLAlchemy 2.0.19\n",
            "    Uninstalling SQLAlchemy-2.0.19:\n",
            "      Successfully uninstalled SQLAlchemy-2.0.19\n",
            "Successfully installed sqlalchemy-1.3.9\n"
          ]
        }
      ],
      "source": [
        "!pip install sqlalchemy==1.3.9\n"
      ],
      "execution_count": 1
    },
    {
      "cell_type": "markdown",
      "metadata": {
        "id": "5751c8ee-9291-410e-be25-d50d72e781e0"
      },
      "source": [
        "### Connect to the database\n",
        "\n",
        "Let us first load the SQL extension and establish a connection with the database\n"
      ]
    },
    {
      "cell_type": "code",
      "metadata": {
        "id": "a4212cf5-7fbb-42d1-98b1-89b995918d34"
      },
      "outputs": [],
      "source": [
        "%load_ext sql"
      ],
      "execution_count": 2
    },
    {
      "cell_type": "code",
      "metadata": {
        "id": "43997a1f-0838-44cc-bd62-9a1ce91d3639"
      },
      "outputs": [],
      "source": [
        "import csv, sqlite3\n",
        "\n",
        "con = sqlite3.connect(\"my_data1.db\")\n",
        "cur = con.cursor()"
      ],
      "execution_count": 3
    },
    {
      "cell_type": "code",
      "metadata": {
        "colab": {
          "base_uri": "https://localhost:8080/"
        },
        "id": "1fe78990-c7b4-48c4-a6e8-7abdd3d28d98",
        "outputId": "507d728d-bd83-4297-86c9-4cbb2d2766cf"
      },
      "outputs": [
        {
          "output_type": "stream",
          "name": "stdout",
          "text": [
            "\u001b[?25l     \u001b[90m━━━━━━━━━━━━━━━━━━━━━━━━━━━━━━━━━━━━━━━━\u001b[0m \u001b[32m0.0/5.2 MB\u001b[0m \u001b[31m?\u001b[0m eta \u001b[36m-:--:--\u001b[0m\r\u001b[2K     \u001b[91m━\u001b[0m\u001b[91m╸\u001b[0m\u001b[90m━━━━━━━━━━━━━━━━━━━━━━━━━━━━━━━━━━━━━━\u001b[0m \u001b[32m0.3/5.2 MB\u001b[0m \u001b[31m7.6 MB/s\u001b[0m eta \u001b[36m0:00:01\u001b[0m\r\u001b[2K     \u001b[91m━━━━━━━━━━━━━━━━━━━━━━━━━━━━━━━━━━━━━━━\u001b[0m\u001b[91m╸\u001b[0m \u001b[32m5.2/5.2 MB\u001b[0m \u001b[31m76.6 MB/s\u001b[0m eta \u001b[36m0:00:01\u001b[0m\r\u001b[2K     \u001b[90m━━━━━━━━━━━━━━━━━━━━━━━━━━━━━━━━━━━━━━━━\u001b[0m \u001b[32m5.2/5.2 MB\u001b[0m \u001b[31m52.7 MB/s\u001b[0m eta \u001b[36m0:00:00\u001b[0m\n",
            "\u001b[?25h  Installing build dependencies ... \u001b[?25l\u001b[?25hdone\n",
            "  Getting requirements to build wheel ... \u001b[?25l\u001b[?25hcanceled\n",
            "\u001b[31mERROR: Operation cancelled by user\u001b[0m\u001b[31m\n",
            "\u001b[0mTraceback (most recent call last):\n",
            "  File \"/usr/local/lib/python3.10/dist-packages/pip/_internal/cli/base_command.py\", line 169, in exc_logging_wrapper\n",
            "    status = run_func(*args)\n",
            "  File \"/usr/local/lib/python3.10/dist-packages/pip/_internal/cli/req_command.py\", line 242, in wrapper\n",
            "    return func(self, options, args)\n",
            "  File \"/usr/local/lib/python3.10/dist-packages/pip/_internal/commands/install.py\", line 377, in run\n",
            "    requirement_set = resolver.resolve(\n",
            "  File \"/usr/local/lib/python3.10/dist-packages/pip/_internal/resolution/resolvelib/resolver.py\", line 92, in resolve\n",
            "    result = self._result = resolver.resolve(\n",
            "  File \"/usr/local/lib/python3.10/dist-packages/pip/_vendor/resolvelib/resolvers.py\", line 546, in resolve\n",
            "    state = resolution.resolve(requirements, max_rounds=max_rounds)\n",
            "  File \"/usr/local/lib/python3.10/dist-packages/pip/_vendor/resolvelib/resolvers.py\", line 397, in resolve\n",
            "    self._add_to_criteria(self.state.criteria, r, parent=None)\n",
            "  File \"/usr/local/lib/python3.10/dist-packages/pip/_vendor/resolvelib/resolvers.py\", line 173, in _add_to_criteria\n",
            "    if not criterion.candidates:\n",
            "  File \"/usr/local/lib/python3.10/dist-packages/pip/_vendor/resolvelib/structs.py\", line 156, in __bool__\n",
            "    return bool(self._sequence)\n",
            "  File \"/usr/local/lib/python3.10/dist-packages/pip/_internal/resolution/resolvelib/found_candidates.py\", line 155, in __bool__\n",
            "    return any(self)\n",
            "  File \"/usr/local/lib/python3.10/dist-packages/pip/_internal/resolution/resolvelib/found_candidates.py\", line 143, in <genexpr>\n",
            "    return (c for c in iterator if id(c) not in self._incompatible_ids)\n",
            "  File \"/usr/local/lib/python3.10/dist-packages/pip/_internal/resolution/resolvelib/found_candidates.py\", line 47, in _iter_built\n",
            "    candidate = func()\n",
            "  File \"/usr/local/lib/python3.10/dist-packages/pip/_internal/resolution/resolvelib/factory.py\", line 206, in _make_candidate_from_link\n",
            "    self._link_candidate_cache[link] = LinkCandidate(\n",
            "  File \"/usr/local/lib/python3.10/dist-packages/pip/_internal/resolution/resolvelib/candidates.py\", line 293, in __init__\n",
            "    super().__init__(\n",
            "  File \"/usr/local/lib/python3.10/dist-packages/pip/_internal/resolution/resolvelib/candidates.py\", line 156, in __init__\n",
            "    self.dist = self._prepare()\n",
            "  File \"/usr/local/lib/python3.10/dist-packages/pip/_internal/resolution/resolvelib/candidates.py\", line 225, in _prepare\n",
            "    dist = self._prepare_distribution()\n",
            "  File \"/usr/local/lib/python3.10/dist-packages/pip/_internal/resolution/resolvelib/candidates.py\", line 304, in _prepare_distribution\n",
            "    return preparer.prepare_linked_requirement(self._ireq, parallel_builds=True)\n",
            "  File \"/usr/local/lib/python3.10/dist-packages/pip/_internal/operations/prepare.py\", line 516, in prepare_linked_requirement\n",
            "    return self._prepare_linked_requirement(req, parallel_builds)\n",
            "  File \"/usr/local/lib/python3.10/dist-packages/pip/_internal/operations/prepare.py\", line 631, in _prepare_linked_requirement\n",
            "    dist = _get_prepared_distribution(\n",
            "  File \"/usr/local/lib/python3.10/dist-packages/pip/_internal/operations/prepare.py\", line 69, in _get_prepared_distribution\n",
            "    abstract_dist.prepare_distribution_metadata(\n",
            "  File \"/usr/local/lib/python3.10/dist-packages/pip/_internal/distributions/sdist.py\", line 48, in prepare_distribution_metadata\n",
            "    self._install_build_reqs(finder)\n",
            "  File \"/usr/local/lib/python3.10/dist-packages/pip/_internal/distributions/sdist.py\", line 118, in _install_build_reqs\n",
            "    build_reqs = self._get_build_requires_wheel()\n",
            "  File \"/usr/local/lib/python3.10/dist-packages/pip/_internal/distributions/sdist.py\", line 95, in _get_build_requires_wheel\n",
            "    return backend.get_requires_for_build_wheel()\n",
            "  File \"/usr/local/lib/python3.10/dist-packages/pip/_internal/utils/misc.py\", line 692, in get_requires_for_build_wheel\n",
            "    return super().get_requires_for_build_wheel(config_settings=cs)\n",
            "  File \"/usr/local/lib/python3.10/dist-packages/pip/_vendor/pyproject_hooks/_impl.py\", line 166, in get_requires_for_build_wheel\n",
            "    return self._call_hook('get_requires_for_build_wheel', {\n",
            "  File \"/usr/local/lib/python3.10/dist-packages/pip/_vendor/pyproject_hooks/_impl.py\", line 311, in _call_hook\n",
            "    self._subprocess_runner(\n",
            "  File \"/usr/local/lib/python3.10/dist-packages/pip/_internal/utils/subprocess.py\", line 252, in runner\n",
            "    call_subprocess(\n",
            "  File \"/usr/local/lib/python3.10/dist-packages/pip/_internal/utils/subprocess.py\", line 166, in call_subprocess\n",
            "    line: str = proc.stdout.readline()\n",
            "KeyboardInterrupt\n",
            "\n",
            "During handling of the above exception, another exception occurred:\n",
            "\n",
            "Traceback (most recent call last):\n",
            "  File \"/usr/local/bin/pip3\", line 8, in <module>\n",
            "    sys.exit(main())\n",
            "  File \"/usr/local/lib/python3.10/dist-packages/pip/_internal/cli/main.py\", line 79, in main\n",
            "    return command.main(cmd_args)\n",
            "  File \"/usr/local/lib/python3.10/dist-packages/pip/_internal/cli/base_command.py\", line 101, in main\n",
            "    return self._main(args)\n",
            "  File \"/usr/local/lib/python3.10/dist-packages/pip/_internal/cli/base_command.py\", line 223, in _main\n",
            "    return run(options, args)\n",
            "  File \"/usr/local/lib/python3.10/dist-packages/pip/_internal/cli/base_command.py\", line 207, in exc_logging_wrapper\n",
            "    logger.debug(\"Exception information:\", exc_info=True)\n",
            "  File \"/usr/lib/python3.10/logging/__init__.py\", line 1465, in debug\n",
            "    self._log(DEBUG, msg, args, **kwargs)\n",
            "  File \"/usr/lib/python3.10/logging/__init__.py\", line 1624, in _log\n",
            "    self.handle(record)\n",
            "  File \"/usr/lib/python3.10/logging/__init__.py\", line 1634, in handle\n",
            "    self.callHandlers(record)\n",
            "  File \"/usr/lib/python3.10/logging/__init__.py\", line 1696, in callHandlers\n",
            "    hdlr.handle(record)\n",
            "  File \"/usr/lib/python3.10/logging/__init__.py\", line 968, in handle\n",
            "    self.emit(record)\n",
            "  File \"/usr/lib/python3.10/logging/handlers.py\", line 75, in emit\n",
            "    logging.FileHandler.emit(self, record)\n",
            "  File \"/usr/lib/python3.10/logging/__init__.py\", line 1218, in emit\n",
            "    StreamHandler.emit(self, record)\n",
            "  File \"/usr/lib/python3.10/logging/__init__.py\", line 1100, in emit\n",
            "    msg = self.format(record)\n",
            "  File \"/usr/lib/python3.10/logging/__init__.py\", line 943, in format\n",
            "    return fmt.format(record)\n",
            "  File \"/usr/local/lib/python3.10/dist-packages/pip/_internal/utils/logging.py\", line 112, in format\n",
            "    formatted = super().format(record)\n",
            "  File \"/usr/lib/python3.10/logging/__init__.py\", line 686, in format\n",
            "    record.exc_text = self.formatException(record.exc_info)\n",
            "  File \"/usr/lib/python3.10/logging/__init__.py\", line 636, in formatException\n",
            "    traceback.print_exception(ei[0], ei[1], tb, None, sio)\n",
            "  File \"/usr/lib/python3.10/traceback.py\", line 119, in print_exception\n",
            "    te = TracebackException(type(value), value, tb, limit=limit, compact=True)\n",
            "  File \"/usr/lib/python3.10/traceback.py\", line 502, in __init__\n",
            "    self.stack = StackSummary.extract(\n",
            "  File \"/usr/lib/python3.10/traceback.py\", line 383, in extract\n",
            "    f.line\n",
            "  File \"/usr/lib/python3.10/traceback.py\", line 306, in line\n",
            "    self._line = linecache.getline(self.filename, self.lineno)\n",
            "  File \"/usr/lib/python3.10/linecache.py\", line 30, in getline\n",
            "    lines = getlines(filename, module_globals)\n",
            "  File \"/usr/lib/python3.10/linecache.py\", line 46, in getlines\n",
            "    return updatecache(filename, module_globals)\n",
            "  File \"/usr/lib/python3.10/linecache.py\", line 136, in updatecache\n",
            "    with tokenize.open(fullname) as fp:\n",
            "  File \"/usr/lib/python3.10/tokenize.py\", line 396, in open\n",
            "    encoding, lines = detect_encoding(buffer.readline)\n",
            "  File \"/usr/lib/python3.10/tokenize.py\", line 365, in detect_encoding\n",
            "    first = read_or_stop()\n",
            "  File \"/usr/lib/python3.10/tokenize.py\", line 323, in read_or_stop\n",
            "    return readline()\n",
            "KeyboardInterrupt\n",
            "^C\n"
          ]
        }
      ],
      "source": [
        "!pip install -q pandas==1.1.5"
      ],
      "execution_count": 4
    },
    {
      "cell_type": "code",
      "metadata": {
        "id": "52e125f7-902c-440a-af54-1ca71a4dab33"
      },
      "outputs": [],
      "source": [
        "%sql sqlite:///my_data1.db"
      ],
      "execution_count": 5
    },
    {
      "cell_type": "code",
      "metadata": {
        "colab": {
          "base_uri": "https://localhost:8080/"
        },
        "id": "711b8b7b-be15-41ff-a7e5-7fec0b66c8c1",
        "outputId": "6b4c38b4-bc2e-4f4c-dafb-ce84b22b53c2"
      },
      "outputs": [
        {
          "output_type": "execute_result",
          "data": {
            "text/plain": [
              "101"
            ]
          },
          "metadata": {},
          "execution_count": 6
        }
      ],
      "source": [
        "import pandas as pd\n",
        "df = pd.read_csv(\"https://cf-courses-data.s3.us.cloud-object-storage.appdomain.cloud/IBM-DS0321EN-SkillsNetwork/labs/module_2/data/Spacex.csv\")\n",
        "df.to_sql(\"SPACEXTBL\", con, if_exists='replace', index=False,method=\"multi\")"
      ],
      "execution_count": 6
    },
    {
      "cell_type": "markdown",
      "metadata": {
        "id": "be68ba98-f1bd-4179-91ef-1a961feb9092"
      },
      "source": [
        "## Tasks\n",
        "\n",
        "Now write and execute SQL queries to solve the assignment tasks.\n",
        "\n",
        "**Note: If the column names are in mixed case enclose it in double quotes\n",
        "   For Example \"Landing_Outcome\"**\n",
        "\n",
        "### Task 1\n",
        "\n",
        "\n",
        "\n",
        "\n",
        "##### Display the names of the unique launch sites  in the space mission\n"
      ]
    },
    {
      "cell_type": "code",
      "source": [
        "df.info()"
      ],
      "metadata": {
        "colab": {
          "base_uri": "https://localhost:8080/"
        },
        "id": "C39YL1F45EaS",
        "outputId": "6c8c6e6d-b28b-43c2-cb0e-6f4efc4a2430"
      },
      "execution_count": 7,
      "outputs": [
        {
          "output_type": "stream",
          "name": "stdout",
          "text": [
            "<class 'pandas.core.frame.DataFrame'>\n",
            "RangeIndex: 101 entries, 0 to 100\n",
            "Data columns (total 10 columns):\n",
            " #   Column             Non-Null Count  Dtype \n",
            "---  ------             --------------  ----- \n",
            " 0   Date               101 non-null    object\n",
            " 1   Time (UTC)         101 non-null    object\n",
            " 2   Booster_Version    101 non-null    object\n",
            " 3   Launch_Site        101 non-null    object\n",
            " 4   Payload            101 non-null    object\n",
            " 5   PAYLOAD_MASS__KG_  101 non-null    int64 \n",
            " 6   Orbit              101 non-null    object\n",
            " 7   Customer           101 non-null    object\n",
            " 8   Mission_Outcome    101 non-null    object\n",
            " 9   Landing_Outcome    101 non-null    object\n",
            "dtypes: int64(1), object(9)\n",
            "memory usage: 8.0+ KB\n"
          ]
        }
      ]
    },
    {
      "cell_type": "code",
      "metadata": {
        "colab": {
          "base_uri": "https://localhost:8080/",
          "height": 158
        },
        "id": "e0f8f6b6-fa9b-4e78-8715-ec767ed76fdb",
        "outputId": "c8459d7e-06a2-40a3-bcd6-c3654713b14d"
      },
      "outputs": [
        {
          "output_type": "stream",
          "name": "stdout",
          "text": [
            " * sqlite:///my_data1.db\n",
            "Done.\n"
          ]
        },
        {
          "output_type": "execute_result",
          "data": {
            "text/plain": [
              "[('CCAFS LC-40',), ('VAFB SLC-4E',), ('KSC LC-39A',), ('CCAFS SLC-40',)]"
            ],
            "text/html": [
              "<table>\n",
              "    <tr>\n",
              "        <th>Launch_Site</th>\n",
              "    </tr>\n",
              "    <tr>\n",
              "        <td>CCAFS LC-40</td>\n",
              "    </tr>\n",
              "    <tr>\n",
              "        <td>VAFB SLC-4E</td>\n",
              "    </tr>\n",
              "    <tr>\n",
              "        <td>KSC LC-39A</td>\n",
              "    </tr>\n",
              "    <tr>\n",
              "        <td>CCAFS SLC-40</td>\n",
              "    </tr>\n",
              "</table>"
            ]
          },
          "metadata": {},
          "execution_count": 8
        }
      ],
      "source": [
        "%%sql\n",
        "Select Distinct Launch_Site\n",
        "from SPACEXTBL"
      ],
      "execution_count": 8
    },
    {
      "cell_type": "markdown",
      "metadata": {
        "id": "f6fb7c8d-dd5e-470e-b464-7516ba250466"
      },
      "source": [
        "\n",
        "### Task 2\n",
        "\n",
        "\n",
        "#####  Display 5 records where launch sites begin with the string 'CCA'\n"
      ]
    },
    {
      "cell_type": "code",
      "metadata": {
        "colab": {
          "base_uri": "https://localhost:8080/",
          "height": 283
        },
        "id": "6c7ee27a-0f5a-479b-bb6d-a46f75bc28cd",
        "outputId": "e950446a-05e2-4106-def4-76f2a178ea29"
      },
      "outputs": [
        {
          "output_type": "stream",
          "name": "stdout",
          "text": [
            " * sqlite:///my_data1.db\n",
            "Done.\n"
          ]
        },
        {
          "output_type": "execute_result",
          "data": {
            "text/plain": [
              "[('2010-04-06', '18:45:00', 'F9 v1.0  B0003', 'CCAFS LC-40', 'Dragon Spacecraft Qualification Unit', 0, 'LEO', 'SpaceX', 'Success', 'Failure (parachute)'),\n",
              " ('2010-08-12', '15:43:00', 'F9 v1.0  B0004', 'CCAFS LC-40', 'Dragon demo flight C1, two CubeSats, barrel of Brouere cheese', 0, 'LEO (ISS)', 'NASA (COTS) NRO', 'Success', 'Failure (parachute)'),\n",
              " ('2012-05-22', '07:44:00', 'F9 v1.0  B0005', 'CCAFS LC-40', 'Dragon demo flight C2', 525, 'LEO (ISS)', 'NASA (COTS)', 'Success', 'No attempt'),\n",
              " ('2012-08-10', '00:35:00', 'F9 v1.0  B0006', 'CCAFS LC-40', 'SpaceX CRS-1', 500, 'LEO (ISS)', 'NASA (CRS)', 'Success', 'No attempt'),\n",
              " ('2013-01-03', '15:10:00', 'F9 v1.0  B0007', 'CCAFS LC-40', 'SpaceX CRS-2', 677, 'LEO (ISS)', 'NASA (CRS)', 'Success', 'No attempt')]"
            ],
            "text/html": [
              "<table>\n",
              "    <tr>\n",
              "        <th>Date</th>\n",
              "        <th>Time (UTC)</th>\n",
              "        <th>Booster_Version</th>\n",
              "        <th>Launch_Site</th>\n",
              "        <th>Payload</th>\n",
              "        <th>PAYLOAD_MASS__KG_</th>\n",
              "        <th>Orbit</th>\n",
              "        <th>Customer</th>\n",
              "        <th>Mission_Outcome</th>\n",
              "        <th>Landing_Outcome</th>\n",
              "    </tr>\n",
              "    <tr>\n",
              "        <td>2010-04-06</td>\n",
              "        <td>18:45:00</td>\n",
              "        <td>F9 v1.0  B0003</td>\n",
              "        <td>CCAFS LC-40</td>\n",
              "        <td>Dragon Spacecraft Qualification Unit</td>\n",
              "        <td>0</td>\n",
              "        <td>LEO</td>\n",
              "        <td>SpaceX</td>\n",
              "        <td>Success</td>\n",
              "        <td>Failure (parachute)</td>\n",
              "    </tr>\n",
              "    <tr>\n",
              "        <td>2010-08-12</td>\n",
              "        <td>15:43:00</td>\n",
              "        <td>F9 v1.0  B0004</td>\n",
              "        <td>CCAFS LC-40</td>\n",
              "        <td>Dragon demo flight C1, two CubeSats, barrel of Brouere cheese</td>\n",
              "        <td>0</td>\n",
              "        <td>LEO (ISS)</td>\n",
              "        <td>NASA (COTS) NRO</td>\n",
              "        <td>Success</td>\n",
              "        <td>Failure (parachute)</td>\n",
              "    </tr>\n",
              "    <tr>\n",
              "        <td>2012-05-22</td>\n",
              "        <td>07:44:00</td>\n",
              "        <td>F9 v1.0  B0005</td>\n",
              "        <td>CCAFS LC-40</td>\n",
              "        <td>Dragon demo flight C2</td>\n",
              "        <td>525</td>\n",
              "        <td>LEO (ISS)</td>\n",
              "        <td>NASA (COTS)</td>\n",
              "        <td>Success</td>\n",
              "        <td>No attempt</td>\n",
              "    </tr>\n",
              "    <tr>\n",
              "        <td>2012-08-10</td>\n",
              "        <td>00:35:00</td>\n",
              "        <td>F9 v1.0  B0006</td>\n",
              "        <td>CCAFS LC-40</td>\n",
              "        <td>SpaceX CRS-1</td>\n",
              "        <td>500</td>\n",
              "        <td>LEO (ISS)</td>\n",
              "        <td>NASA (CRS)</td>\n",
              "        <td>Success</td>\n",
              "        <td>No attempt</td>\n",
              "    </tr>\n",
              "    <tr>\n",
              "        <td>2013-01-03</td>\n",
              "        <td>15:10:00</td>\n",
              "        <td>F9 v1.0  B0007</td>\n",
              "        <td>CCAFS LC-40</td>\n",
              "        <td>SpaceX CRS-2</td>\n",
              "        <td>677</td>\n",
              "        <td>LEO (ISS)</td>\n",
              "        <td>NASA (CRS)</td>\n",
              "        <td>Success</td>\n",
              "        <td>No attempt</td>\n",
              "    </tr>\n",
              "</table>"
            ]
          },
          "metadata": {},
          "execution_count": 9
        }
      ],
      "source": [
        "%%sql\n",
        "Select *\n",
        "From SPACEXTBL\n",
        "Where Launch_Site like 'CCA%'\n",
        "Limit 5"
      ],
      "execution_count": 9
    },
    {
      "cell_type": "markdown",
      "metadata": {
        "id": "ef25d2a3-4cdd-4260-be13-eed7042720ae"
      },
      "source": [
        "### Task 3\n",
        "\n",
        "\n",
        "\n",
        "\n",
        "##### Display the total payload mass carried by boosters launched by NASA (CRS)\n"
      ]
    },
    {
      "cell_type": "code",
      "metadata": {
        "colab": {
          "base_uri": "https://localhost:8080/",
          "height": 95
        },
        "id": "a44f81de-43cf-43d7-ac21-6f3446b64160",
        "outputId": "b563ddd6-2694-4d75-8871-f918bd9cc845"
      },
      "outputs": [
        {
          "output_type": "stream",
          "name": "stdout",
          "text": [
            " * sqlite:///my_data1.db\n",
            "Done.\n"
          ]
        },
        {
          "output_type": "execute_result",
          "data": {
            "text/plain": [
              "[(45596,)]"
            ],
            "text/html": [
              "<table>\n",
              "    <tr>\n",
              "        <th>SUM(PAYLOAD_MASS__KG_)</th>\n",
              "    </tr>\n",
              "    <tr>\n",
              "        <td>45596</td>\n",
              "    </tr>\n",
              "</table>"
            ]
          },
          "metadata": {},
          "execution_count": 10
        }
      ],
      "source": [
        "%%sql\n",
        "Select SUM(PAYLOAD_MASS__KG_)\n",
        "From SPACEXTBL\n",
        "Where Customer='NASA (CRS)'"
      ],
      "execution_count": 10
    },
    {
      "cell_type": "markdown",
      "metadata": {
        "id": "bff9546a-0749-4292-95eb-6aeb7d298141"
      },
      "source": [
        "### Task 4\n",
        "\n",
        "\n",
        "\n",
        "\n",
        "##### Display average payload mass carried by booster version F9 v1.1\n"
      ]
    },
    {
      "cell_type": "code",
      "metadata": {
        "colab": {
          "base_uri": "https://localhost:8080/",
          "height": 95
        },
        "id": "b33fc5c5-5cb8-46c5-b171-f6a06435864f",
        "outputId": "f8651f54-21f0-479f-9bd4-b7249762fe67"
      },
      "outputs": [
        {
          "output_type": "stream",
          "name": "stdout",
          "text": [
            " * sqlite:///my_data1.db\n",
            "Done.\n"
          ]
        },
        {
          "output_type": "execute_result",
          "data": {
            "text/plain": [
              "[(2928.4,)]"
            ],
            "text/html": [
              "<table>\n",
              "    <tr>\n",
              "        <th>AVG(PAYLOAD_MASS__KG_)</th>\n",
              "    </tr>\n",
              "    <tr>\n",
              "        <td>2928.4</td>\n",
              "    </tr>\n",
              "</table>"
            ]
          },
          "metadata": {},
          "execution_count": 11
        }
      ],
      "source": [
        "%%sql\n",
        "Select AVG(PAYLOAD_MASS__KG_)\n",
        "From SPACEXTBL\n",
        "Where Booster_Version = 'F9 v1.1'"
      ],
      "execution_count": 11
    },
    {
      "cell_type": "markdown",
      "metadata": {
        "id": "26dcf120-b280-4e73-9791-8b1a1ca1346b"
      },
      "source": [
        "### Task 5\n",
        "\n",
        "##### List the date when the first succesful landing outcome in ground pad was acheived.\n",
        "\n",
        "\n",
        "_Hint:Use min function_\n"
      ]
    },
    {
      "cell_type": "code",
      "metadata": {
        "colab": {
          "base_uri": "https://localhost:8080/",
          "height": 95
        },
        "id": "3462067a-d39e-4641-8479-e16a3d792f3c",
        "outputId": "e5a6acf4-9705-4663-e341-447fd1e0698a"
      },
      "outputs": [
        {
          "output_type": "stream",
          "name": "stdout",
          "text": [
            " * sqlite:///my_data1.db\n",
            "Done.\n"
          ]
        },
        {
          "output_type": "execute_result",
          "data": {
            "text/plain": [
              "[('2015-12-22',)]"
            ],
            "text/html": [
              "<table>\n",
              "    <tr>\n",
              "        <th>MIN(Date)</th>\n",
              "    </tr>\n",
              "    <tr>\n",
              "        <td>2015-12-22</td>\n",
              "    </tr>\n",
              "</table>"
            ]
          },
          "metadata": {},
          "execution_count": 12
        }
      ],
      "source": [
        "%%sql\n",
        "Select MIN(Date)\n",
        "From SPACEXTBL\n",
        "Where Landing_Outcome like 'Success (Ground Pad)'"
      ],
      "execution_count": 12
    },
    {
      "cell_type": "markdown",
      "metadata": {
        "id": "9d9b8d6c-c1ef-4c97-824f-ea4a316374f3"
      },
      "source": [
        "### Task 6\n",
        "\n",
        "##### List the names of the boosters which have success in drone ship and have payload mass greater than 4000 but less than 6000\n"
      ]
    },
    {
      "cell_type": "code",
      "metadata": {
        "colab": {
          "base_uri": "https://localhost:8080/",
          "height": 158
        },
        "id": "a3bab44b-2deb-48af-a9db-8da9ddc4ce1c",
        "outputId": "daac2d9d-eb99-42ce-e797-a56c1d285da6"
      },
      "outputs": [
        {
          "output_type": "stream",
          "name": "stdout",
          "text": [
            " * sqlite:///my_data1.db\n",
            "Done.\n"
          ]
        },
        {
          "output_type": "execute_result",
          "data": {
            "text/plain": [
              "[('F9 FT B1022',), ('F9 FT B1026',), ('F9 FT  B1021.2',), ('F9 FT  B1031.2',)]"
            ],
            "text/html": [
              "<table>\n",
              "    <tr>\n",
              "        <th>Booster_Version</th>\n",
              "    </tr>\n",
              "    <tr>\n",
              "        <td>F9 FT B1022</td>\n",
              "    </tr>\n",
              "    <tr>\n",
              "        <td>F9 FT B1026</td>\n",
              "    </tr>\n",
              "    <tr>\n",
              "        <td>F9 FT  B1021.2</td>\n",
              "    </tr>\n",
              "    <tr>\n",
              "        <td>F9 FT  B1031.2</td>\n",
              "    </tr>\n",
              "</table>"
            ]
          },
          "metadata": {},
          "execution_count": 13
        }
      ],
      "source": [
        "%%sql\n",
        "SELECT DISTINCT Booster_Version\n",
        "From SPACEXTBL\n",
        "Where Landing_Outcome like 'Success (Drone Ship)'\n",
        "and PAYLOAD_MASS__KG_ BETWEEN 4000 and 6000"
      ],
      "execution_count": 13
    },
    {
      "cell_type": "markdown",
      "metadata": {
        "id": "2176adc5-60ba-469a-a1db-b1fe18840fc1"
      },
      "source": [
        "### Task 7\n",
        "\n",
        "\n",
        "\n",
        "\n",
        "##### List the total number of successful and failure mission outcomes\n"
      ]
    },
    {
      "cell_type": "code",
      "metadata": {
        "colab": {
          "base_uri": "https://localhost:8080/",
          "height": 158
        },
        "id": "667a24a3-2df9-4d09-8ac9-0a0dea820ae1",
        "outputId": "81aae965-7e54-4ffd-8d7a-132901037f9a"
      },
      "outputs": [
        {
          "output_type": "stream",
          "name": "stdout",
          "text": [
            " * sqlite:///my_data1.db\n",
            "Done.\n"
          ]
        },
        {
          "output_type": "execute_result",
          "data": {
            "text/plain": [
              "[('Failure (in flight)', 1),\n",
              " ('Success', 98),\n",
              " ('Success ', 1),\n",
              " ('Success (payload status unclear)', 1)]"
            ],
            "text/html": [
              "<table>\n",
              "    <tr>\n",
              "        <th>Mission_Outcome</th>\n",
              "        <th>COUNT(Date)</th>\n",
              "    </tr>\n",
              "    <tr>\n",
              "        <td>Failure (in flight)</td>\n",
              "        <td>1</td>\n",
              "    </tr>\n",
              "    <tr>\n",
              "        <td>Success</td>\n",
              "        <td>98</td>\n",
              "    </tr>\n",
              "    <tr>\n",
              "        <td>Success </td>\n",
              "        <td>1</td>\n",
              "    </tr>\n",
              "    <tr>\n",
              "        <td>Success (payload status unclear)</td>\n",
              "        <td>1</td>\n",
              "    </tr>\n",
              "</table>"
            ]
          },
          "metadata": {},
          "execution_count": 14
        }
      ],
      "source": [
        "%%sql\n",
        "SELECT Mission_Outcome, COUNT(Date)\n",
        "From SPACEXTBL\n",
        "GROUP BY Mission_Outcome"
      ],
      "execution_count": 14
    },
    {
      "cell_type": "markdown",
      "metadata": {
        "id": "98cdeb52-23d5-461c-a141-b1a4ee7bb0b6"
      },
      "source": [
        "### Task 8\n",
        "\n",
        "\n",
        "\n",
        "##### List the   names of the booster_versions which have carried the maximum payload mass. Use a subquery\n"
      ]
    },
    {
      "cell_type": "code",
      "metadata": {
        "colab": {
          "base_uri": "https://localhost:8080/",
          "height": 326
        },
        "id": "11e86ead-4a7f-4281-a52a-1c28ca5a654e",
        "outputId": "25abe4fc-e26f-4d63-9371-94e90812b0c0"
      },
      "outputs": [
        {
          "output_type": "stream",
          "name": "stdout",
          "text": [
            " * sqlite:///my_data1.db\n",
            "Done.\n"
          ]
        },
        {
          "output_type": "execute_result",
          "data": {
            "text/plain": [
              "[('F9 B5 B1048.4',),\n",
              " ('F9 B5 B1049.4',),\n",
              " ('F9 B5 B1051.3',),\n",
              " ('F9 B5 B1056.4',),\n",
              " ('F9 B5 B1048.5',),\n",
              " ('F9 B5 B1051.4',),\n",
              " ('F9 B5 B1049.5',),\n",
              " ('F9 B5 B1060.2 ',),\n",
              " ('F9 B5 B1058.3 ',),\n",
              " ('F9 B5 B1051.6',),\n",
              " ('F9 B5 B1060.3',),\n",
              " ('F9 B5 B1049.7 ',)]"
            ],
            "text/html": [
              "<table>\n",
              "    <tr>\n",
              "        <th>Booster_Version</th>\n",
              "    </tr>\n",
              "    <tr>\n",
              "        <td>F9 B5 B1048.4</td>\n",
              "    </tr>\n",
              "    <tr>\n",
              "        <td>F9 B5 B1049.4</td>\n",
              "    </tr>\n",
              "    <tr>\n",
              "        <td>F9 B5 B1051.3</td>\n",
              "    </tr>\n",
              "    <tr>\n",
              "        <td>F9 B5 B1056.4</td>\n",
              "    </tr>\n",
              "    <tr>\n",
              "        <td>F9 B5 B1048.5</td>\n",
              "    </tr>\n",
              "    <tr>\n",
              "        <td>F9 B5 B1051.4</td>\n",
              "    </tr>\n",
              "    <tr>\n",
              "        <td>F9 B5 B1049.5</td>\n",
              "    </tr>\n",
              "    <tr>\n",
              "        <td>F9 B5 B1060.2 </td>\n",
              "    </tr>\n",
              "    <tr>\n",
              "        <td>F9 B5 B1058.3 </td>\n",
              "    </tr>\n",
              "    <tr>\n",
              "        <td>F9 B5 B1051.6</td>\n",
              "    </tr>\n",
              "    <tr>\n",
              "        <td>F9 B5 B1060.3</td>\n",
              "    </tr>\n",
              "    <tr>\n",
              "        <td>F9 B5 B1049.7 </td>\n",
              "    </tr>\n",
              "</table>"
            ]
          },
          "metadata": {},
          "execution_count": 15
        }
      ],
      "source": [
        "%%sql\n",
        "SELECT Distinct Booster_Version\n",
        "From SPACEXTBL\n",
        "Where PAYLOAD_MASS__KG_ = (SELECT MAX(PAYLOAD_MASS__KG_)\n",
        "                            FROM SPACEXTBL)"
      ],
      "execution_count": null
    },
    {
      "cell_type": "markdown",
      "metadata": {
        "id": "ecc07167-f7cc-4b5b-98f3-259496647f0e"
      },
      "source": [
        "### Task 9\n",
        "\n",
        "\n",
        "##### List the records which will display the month names, failure landing_outcomes in drone ship ,booster versions, launch_site for the months in year 2015.\n",
        "\n",
        "**Note: SQLLite does not support monthnames. So you need to use  substr(Date, 4, 2) as month to get the months and substr(Date,7,4)='2015' for year.**\n"
      ]
    },
    {
      "cell_type": "code",
      "metadata": {
        "colab": {
          "base_uri": "https://localhost:8080/",
          "height": 116
        },
        "id": "573385b7-ec13-4c88-807b-e1b62dc0a9b0",
        "outputId": "3b7332fe-f8f8-484d-b448-cfc29dcccb7e"
      },
      "outputs": [
        {
          "output_type": "stream",
          "name": "stdout",
          "text": [
            " * sqlite:///my_data1.db\n",
            "Done.\n"
          ]
        },
        {
          "output_type": "execute_result",
          "data": {
            "text/plain": [
              "[('04', 'Failure (drone ship)', 'F9 v1.1 B1015', 'CCAFS LC-40', '2015'),\n",
              " ('10', 'Failure (drone ship)', 'F9 v1.1 B1012', 'CCAFS LC-40', '2015')]"
            ],
            "text/html": [
              "<table>\n",
              "    <tr>\n",
              "        <th>Month</th>\n",
              "        <th>Landing_Outcome</th>\n",
              "        <th>Booster_Version</th>\n",
              "        <th>Launch_Site</th>\n",
              "        <th>Year</th>\n",
              "    </tr>\n",
              "    <tr>\n",
              "        <td>04</td>\n",
              "        <td>Failure (drone ship)</td>\n",
              "        <td>F9 v1.1 B1015</td>\n",
              "        <td>CCAFS LC-40</td>\n",
              "        <td>2015</td>\n",
              "    </tr>\n",
              "    <tr>\n",
              "        <td>10</td>\n",
              "        <td>Failure (drone ship)</td>\n",
              "        <td>F9 v1.1 B1012</td>\n",
              "        <td>CCAFS LC-40</td>\n",
              "        <td>2015</td>\n",
              "    </tr>\n",
              "</table>"
            ]
          },
          "metadata": {},
          "execution_count": 31
        }
      ],
      "source": [
        "%%sql\n",
        "Select Distinct\n",
        "  substr(Date,6,2) as 'Month',\n",
        "  Landing_Outcome,\n",
        "  Booster_Version,\n",
        "  Launch_Site,\n",
        "  Substr(Date,0,5) as 'Year'\n",
        "From\n",
        "  SPACEXTBL\n",
        "Where\n",
        "  Landing_Outcome like '%Failure%'\n",
        "  and substr(Date,0,5)='2015'\n",
        "Order By [Month] Asc"
      ],
      "execution_count": null
    },
    {
      "cell_type": "markdown",
      "metadata": {
        "id": "d484dd4b-ed7c-4322-a951-1c1b01a93974"
      },
      "source": [
        "### Task 10\n",
        "\n",
        "\n",
        "\n",
        "\n",
        "##### Rank the count of landing outcomes (such as Failure (drone ship) or Success (ground pad)) between the date 2010-06-04 and 2017-03-20, in descending order.\n"
      ]
    },
    {
      "cell_type": "code",
      "metadata": {
        "colab": {
          "base_uri": "https://localhost:8080/",
          "height": 242
        },
        "id": "8499d104-9c2f-4d54-9824-0fd1bbdcacca",
        "outputId": "e8bab3ee-a6b5-4aac-f6e2-448df2c08c7a"
      },
      "outputs": [
        {
          "output_type": "stream",
          "name": "stdout",
          "text": [
            " * sqlite:///my_data1.db\n",
            "Done.\n"
          ]
        },
        {
          "output_type": "execute_result",
          "data": {
            "text/plain": [
              "[('No attempt', 10),\n",
              " ('Success (ground pad)', 5),\n",
              " ('Success (drone ship)', 5),\n",
              " ('Failure (drone ship)', 5),\n",
              " ('Controlled (ocean)', 3),\n",
              " ('Uncontrolled (ocean)', 2),\n",
              " ('Precluded (drone ship)', 1),\n",
              " ('Failure (parachute)', 1)]"
            ],
            "text/html": [
              "<table>\n",
              "    <tr>\n",
              "        <th>Landing_Outcome</th>\n",
              "        <th>Count</th>\n",
              "    </tr>\n",
              "    <tr>\n",
              "        <td>No attempt</td>\n",
              "        <td>10</td>\n",
              "    </tr>\n",
              "    <tr>\n",
              "        <td>Success (ground pad)</td>\n",
              "        <td>5</td>\n",
              "    </tr>\n",
              "    <tr>\n",
              "        <td>Success (drone ship)</td>\n",
              "        <td>5</td>\n",
              "    </tr>\n",
              "    <tr>\n",
              "        <td>Failure (drone ship)</td>\n",
              "        <td>5</td>\n",
              "    </tr>\n",
              "    <tr>\n",
              "        <td>Controlled (ocean)</td>\n",
              "        <td>3</td>\n",
              "    </tr>\n",
              "    <tr>\n",
              "        <td>Uncontrolled (ocean)</td>\n",
              "        <td>2</td>\n",
              "    </tr>\n",
              "    <tr>\n",
              "        <td>Precluded (drone ship)</td>\n",
              "        <td>1</td>\n",
              "    </tr>\n",
              "    <tr>\n",
              "        <td>Failure (parachute)</td>\n",
              "        <td>1</td>\n",
              "    </tr>\n",
              "</table>"
            ]
          },
          "metadata": {},
          "execution_count": 15
        }
      ],
      "source": [
        "%%sql\n",
        "--Select *\n",
        "--From SPACEXTBL\n",
        "--Where Date >= '2010-06-04' and Date <= '2017-03-20'\n",
        "\n",
        "SELECT Landing_Outcome, Count(*) as 'Count'\n",
        "FROM SPACEXTBL\n",
        "WHERE Date BETWEEN '2010-06-04' AND '2017-03-20'\n",
        "GROUP BY Landing_Outcome\n",
        "ORDER BY [Count] Desc"
      ],
      "execution_count": 15
    },
    {
      "cell_type": "markdown",
      "metadata": {
        "id": "441be687-7bdc-43a2-87ca-29bf1aeafe87"
      },
      "source": [
        "### Reference Links\n",
        "\n",
        "* <a href =\"https://cf-courses-data.s3.us.cloud-object-storage.appdomain.cloud/IBMDeveloperSkillsNetwork-DB0201EN-SkillsNetwork/labs/Labs_Coursera_V5/labs/Lab%20-%20String%20Patterns%20-%20Sorting%20-%20Grouping/instructional-labs.md.html?origin=www.coursera.org\">Hands-on Lab : String Patterns, Sorting and Grouping</a>  \n",
        "\n",
        "*  <a  href=\"https://cf-courses-data.s3.us.cloud-object-storage.appdomain.cloud/IBMDeveloperSkillsNetwork-DB0201EN-SkillsNetwork/labs/Labs_Coursera_V5/labs/Lab%20-%20Built-in%20functions%20/Hands-on_Lab__Built-in_Functions.md.html?origin=www.coursera.org\">Hands-on Lab: Built-in functions</a>\n",
        "\n",
        "*  <a  href=\"https://cf-courses-data.s3.us.cloud-object-storage.appdomain.cloud/IBMDeveloperSkillsNetwork-DB0201EN-SkillsNetwork/labs/Labs_Coursera_V5/labs/Lab%20-%20Sub-queries%20and%20Nested%20SELECTs%20/instructional-labs.md.html?origin=www.coursera.org\">Hands-on Lab : Sub-queries and Nested SELECT Statements</a>\n",
        "\n",
        "*   <a href=\"https://cf-courses-data.s3.us.cloud-object-storage.appdomain.cloud/IBMDeveloperSkillsNetwork-DB0201EN-SkillsNetwork/labs/Module%205/DB0201EN-Week3-1-3-SQLmagic.ipynb\">Hands-on Tutorial: Accessing Databases with SQL magic</a>\n",
        "\n",
        "*  <a href= \"https://cf-courses-data.s3.us.cloud-object-storage.appdomain.cloud/IBMDeveloperSkillsNetwork-DB0201EN-SkillsNetwork/labs/Module%205/DB0201EN-Week3-1-4-Analyzing.ipynb\">Hands-on Lab: Analyzing a real World Data Set</a>\n",
        "\n",
        "\n"
      ]
    },
    {
      "cell_type": "markdown",
      "metadata": {
        "id": "ce579551-45c4-422d-9d15-af2c2d7a41ba"
      },
      "source": [
        "## Author(s)\n",
        "\n",
        "<h4> Lakshmi Holla </h4>\n"
      ]
    },
    {
      "cell_type": "markdown",
      "metadata": {
        "id": "1613d9fc-305d-49cd-af46-cbf82b70fcef"
      },
      "source": [
        "## Other Contributors\n",
        "\n",
        "<h4> Rav Ahuja </h4>\n"
      ]
    },
    {
      "cell_type": "markdown",
      "metadata": {
        "id": "122de547-5c4e-4931-9dbe-8d112b669742"
      },
      "source": [
        "## Change log\n",
        "| Date | Version | Changed by | Change Description |\n",
        "|------|--------|--------|---------|\n",
        "| 2021-07-09 | 0.2 |Lakshmi Holla | Changes made in magic sql|\n",
        "| 2021-05-20 | 0.1 |Lakshmi Holla | Created Initial Version |\n"
      ]
    },
    {
      "cell_type": "markdown",
      "metadata": {
        "id": "8b2cc68b-aaec-410a-a454-18e38bd5b9b4"
      },
      "source": [
        "## <h3 align=\"center\"> © IBM Corporation 2021. All rights reserved. <h3/>\n"
      ]
    }
  ],
  "metadata": {
    "kernelspec": {
      "display_name": "Python",
      "language": "python",
      "name": "conda-env-python-py"
    },
    "language_info": {
      "name": ""
    },
    "colab": {
      "provenance": []
    }
  },
  "nbformat": 4,
  "nbformat_minor": 0
}